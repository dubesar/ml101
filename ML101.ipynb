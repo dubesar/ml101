{
  "nbformat": 4,
  "nbformat_minor": 0,
  "metadata": {
    "colab": {
      "name": "ML101.ipynb",
      "provenance": [],
      "include_colab_link": true
    },
    "kernelspec": {
      "name": "python3",
      "display_name": "Python 3"
    }
  },
  "cells": [
    {
      "cell_type": "markdown",
      "metadata": {
        "id": "view-in-github",
        "colab_type": "text"
      },
      "source": [
        "<a href=\"https://colab.research.google.com/github/thisiseshan/ml101/blob/master/ML101.ipynb\" target=\"_parent\"><img src=\"https://colab.research.google.com/assets/colab-badge.svg\" alt=\"Open In Colab\"/></a>"
      ]
    },
    {
      "cell_type": "markdown",
      "metadata": {
        "id": "teWG71tCQxe7",
        "colab_type": "text"
      },
      "source": [
        "#  <center> **This ML 101**"
      ]
    },
    {
      "cell_type": "markdown",
      "metadata": {
        "id": "J2iE3gDhOvSk",
        "colab_type": "text"
      },
      "source": [
        "## Where are we?\n",
        "\n",
        "The IDE we are using here is Google Colab. <br>\n",
        "An online IPython Notebook Environment (You can use Jupyter Notebook on yout local machine) linked to your Google Drive. <br>\n",
        "\n",
        "_Have a look around. Everything here is written in cells._"
      ]
    },
    {
      "cell_type": "markdown",
      "metadata": {
        "id": "ssBrCGbWOvMF",
        "colab_type": "text"
      },
      "source": [
        "## What is Machine Learning? A couple of definitions <br>\n",
        "\n",
        "_The field of study that gives computers the ability to learn without being explicitly programmed._<br> - Arthur Samuel <br><br>\n",
        "_A computer program is said to learn from experience E with respect to some class of tasks T and performance measure P, if its performance at tasks in T, as measured by P, improves with experience E._<br> - Tom Mitchell \n",
        "\n"
      ]
    },
    {
      "cell_type": "markdown",
      "metadata": {
        "id": "K61Y8WM4OvJo",
        "colab_type": "text"
      },
      "source": [
        "## Machine Learning Vs AI\n",
        "\n",
        "Artificial Intelligence is the broader concept of machines being able to carry out tasks in a way that we would consider “smart”.<br>\n",
        "\n",
        "While,<br>\n",
        "\n",
        "Machine Learning is a current application of AI based around the idea that we should really just be able to give machines access to data and let them learn for themselves.<br><br>\n",
        "\n",
        "![alt text](https://d1jnx9ba8s6j9r.cloudfront.net/blog/wp-content/uploads/2018/03/AI-vs-ML-vs-Deep-Learning.png) "
      ]
    },
    {
      "cell_type": "markdown",
      "metadata": {
        "id": "70wH8rWJOvD6",
        "colab_type": "text"
      },
      "source": [
        "## Types Of Machine Learning <br>\n",
        "\n",
        "*   Supervised Learning\n",
        "*   Unsupervised Learning\n",
        "\n"
      ]
    },
    {
      "cell_type": "markdown",
      "metadata": {
        "id": "o7POrZYgOu_B",
        "colab_type": "text"
      },
      "source": [
        "In **Supervised Learning**, we are given a data set and already know what our correct output should look like, having the idea that there is a relationship between the input and the output.<br>\n",
        "Example - Housing Price prediction on previous data<br><br>\n",
        "\n",
        "Supervised learning problems are categorized into \"regression\" and \"classification\" problems.<br>\n",
        "Regression - Weather Prediction over the week<br>\n",
        "Classification - Cat Vs Dog classifier<br><br> \n",
        "\n",
        "**Unsupervised learning** allows us to approach problems with little or no idea what our results should look like. We can derive structure from data where we don't necessarily know the effect of the variables.<br>\n",
        "Example - Grouping data (Identifying indivdual voices in a disturbed voice message).<br>\n",
        "\n",
        "\n",
        "\n"
      ]
    },
    {
      "cell_type": "markdown",
      "metadata": {
        "id": "_ZEd10I8Ou8p",
        "colab_type": "text"
      },
      "source": [
        "## Data\n",
        "**Remember, DATA can be anything.**\n",
        "\n",
        "It is broadly classified as follows:<br><br>\n",
        "![alt text](https://miro.medium.com/max/562/1*D8B5_HlEfwSQURgQkymoBA.jpeg)\n",
        "\n",
        "\n",
        "\n",
        "1.   Numerical Data - Numbers\n",
        "2.   Categorical Data - Categories (color, cloth piece, etc.)\n",
        "3.   Time Series Data - A sequence or pattern at regular intervals\n",
        "4.   Text - Words\n",
        "\n",
        "\n",
        "\n",
        "\n"
      ]
    },
    {
      "cell_type": "markdown",
      "metadata": {
        "id": "pMDGH7voOu4J",
        "colab_type": "text"
      },
      "source": [
        "## Popular Machine Learning Libraries:\n",
        "Don't worry to much about them. We'll use most of these in about 5 minutes :)\n",
        "\n",
        "*   NumPy\n",
        "*   SciPy\n",
        "*   Scikit-learn\n",
        "*   Theano\n",
        "*   TensorFlow\n",
        "*   Keras\n",
        "*   PyTorch\n",
        "*   Pandas\n",
        "*   Matplotlib\n",
        "\n",
        "\n",
        "\n",
        "\n"
      ]
    },
    {
      "cell_type": "markdown",
      "metadata": {
        "id": "4E2z6E0tOu1s",
        "colab_type": "text"
      },
      "source": [
        "## Let's talk more about Data\n",
        "\n",
        "Generally, we start with one dataset and to train our model and another dataset to test our model. We simply call these Training and Testing datasets respectively.<br>\n",
        "Example - Cat Vs Dog classifier"
      ]
    },
    {
      "cell_type": "markdown",
      "metadata": {
        "id": "uukAiwscOuyb",
        "colab_type": "text"
      },
      "source": [
        "## Classifiers and Regression models\n",
        "Here we take a look at how a Classifier works!"
      ]
    },
    {
      "cell_type": "markdown",
      "metadata": {
        "id": "RNveAp8hOuuU",
        "colab_type": "text"
      },
      "source": [
        "## Classifier - Cat Vs Dog "
      ]
    },
    {
      "cell_type": "markdown",
      "metadata": {
        "id": "GGVl2aXhOuq2",
        "colab_type": "text"
      },
      "source": [
        "###Plotting Data"
      ]
    },
    {
      "cell_type": "code",
      "metadata": {
        "id": "j-vF5nWALd3A",
        "colab_type": "code",
        "colab": {}
      },
      "source": [
        ""
      ],
      "execution_count": 0,
      "outputs": []
    }
  ]
}